{
 "cells": [
  {
   "cell_type": "markdown",
   "metadata": {
    "colab_type": "text",
    "id": "view-in-github"
   },
   "source": [
    "<a href=\"https://colab.research.google.com/github/xprilion/GCCTrack/blob/master/GCPCrashCourseConversionScript.ipynb\" target=\"_parent\"><img src=\"https://colab.research.google.com/assets/colab-badge.svg\" alt=\"Open In Colab\"/></a>"
   ]
  },
  {
   "cell_type": "code",
   "execution_count": 0,
   "metadata": {
    "colab": {},
    "colab_type": "code",
    "id": "OwPWaPMKklvl"
   },
   "outputs": [],
   "source": [
    "text = \"\"\"1.\n",
    "Ashish Batajoo\n",
    "Application Development\n",
    "https://www.qwiklabs.com/public_profiles/265aaffc-44ec-49a8-b1a0-8ea122b1261e\n",
    "2.\n",
    "Piyush Agarwal\n",
    "Application Development\n",
    "https://www.qwiklabs.com/public_profiles/7174e5b9-0bc4-4d5a-8d43-ce0cc8b1a617\n",
    "3.\n",
    "Sayak Paul\n",
    "Machine Learning\n",
    "https://google.qwiklabs.com/public_profiles/94bcef21-a34f-4dee-b0da-62aed17c503f\n",
    "4.\n",
    "Inika Roy\n",
    "Machine Learning\n",
    "https://google.qwiklabs.com/public_profiles/2d4217b7-fdb8-4b3e-b79e-dba8600b5d2f\"\"\""
   ]
  },
  {
   "cell_type": "code",
   "execution_count": 0,
   "metadata": {
    "colab": {},
    "colab_type": "code",
    "id": "lF6QHcy7lIS0"
   },
   "outputs": [],
   "source": [
    "lst = []"
   ]
  },
  {
   "cell_type": "code",
   "execution_count": 0,
   "metadata": {
    "colab": {},
    "colab_type": "code",
    "id": "NgVzj7-Slsfb"
   },
   "outputs": [],
   "source": [
    "dct = {}"
   ]
  },
  {
   "cell_type": "code",
   "execution_count": 0,
   "metadata": {
    "colab": {},
    "colab_type": "code",
    "id": "nufLaMRvlPQW"
   },
   "outputs": [],
   "source": [
    "cntr = 1\n",
    "for t in text.split(\"\\n\"):\n",
    "  if cntr == 1:\n",
    "    pass\n",
    "  elif cntr == 2:\n",
    "    dct[\"name\"] = t\n",
    "  elif cntr == 3:\n",
    "    dct[\"track\"] = t\n",
    "  elif cntr == 4:\n",
    "    dct[\"link\"] = t\n",
    "    cntr = 0\n",
    "    lst.append(dct)\n",
    "    dct = {}\n",
    "  \n",
    "  cntr += 1\n",
    "  "
   ]
  },
  {
   "cell_type": "code",
   "execution_count": 0,
   "metadata": {
    "colab": {},
    "colab_type": "code",
    "id": "vPPmvDeamRUy"
   },
   "outputs": [],
   "source": [
    "import pandas as pd"
   ]
  },
  {
   "cell_type": "code",
   "execution_count": 0,
   "metadata": {
    "colab": {},
    "colab_type": "code",
    "id": "1tj4h2IpmobP"
   },
   "outputs": [],
   "source": [
    "df = pd.DataFrame(lst)"
   ]
  },
  {
   "cell_type": "code",
   "execution_count": 0,
   "metadata": {
    "colab": {},
    "colab_type": "code",
    "id": "W0yMALjMm0UB"
   },
   "outputs": [],
   "source": [
    "df.to_csv(\"gcpccdata.csv\", encoding='utf-8', index=False)"
   ]
  },
  {
   "cell_type": "markdown",
   "metadata": {
    "colab_type": "text",
    "id": "Rz32kgLbQYvW"
   },
   "source": [
    "## Checking Valid"
   ]
  },
  {
   "cell_type": "code",
   "execution_count": 0,
   "metadata": {
    "colab": {},
    "colab_type": "code",
    "id": "epbXQsAFXHdp"
   },
   "outputs": [],
   "source": [
    "needs = {\n",
    "    \"ml\": [\n",
    "        'Baseline: Data, ML, AI', \n",
    "        'Intro to ML: Language Processing', \n",
    "        'BigQuery for Machine Learning', \n",
    "        'Intermediate ML: TensorFlow on GCP', \n",
    "        'Machine Learning APIs'\n",
    "    ],\n",
    "    \"app\": [\n",
    "        'Baseline: Deploy & Develop', \n",
    "        'Websites and Web Applications', \n",
    "        'Deploying Applications', \n",
    "        'Cloud Development', \n",
    "        'Exploring APIs'\n",
    "    ],\n",
    "    \"ds\": [\n",
    "        'Baseline: Data, ML, AI', \n",
    "        'Scientific Data Processing', \n",
    "        'BigQuery For Data Analysis', \n",
    "        'Data Engineering', \n",
    "        'Data Science on the Google Cloud Platform'\n",
    "    ],\n",
    "}"
   ]
  },
  {
   "cell_type": "code",
   "execution_count": 0,
   "metadata": {
    "colab": {},
    "colab_type": "code",
    "id": "ZWMIQbXsQiwL"
   },
   "outputs": [],
   "source": [
    "import requests\n",
    "import html5lib\n",
    "from bs4 import BeautifulSoup as bs\n",
    "import time "
   ]
  },
  {
   "cell_type": "code",
   "execution_count": 0,
   "metadata": {
    "colab": {},
    "colab_type": "code",
    "id": "ZQrUz8-lW8jp"
   },
   "outputs": [],
   "source": [
    "def Checker(person, debug=False):\n",
    "  \n",
    "  global needs\n",
    "  \n",
    "  if debug:\n",
    "    print(\"Checking for: \", person['name'])\n",
    "  \n",
    "  URL = person['link']\n",
    "  \n",
    "  if debug:\n",
    "    print(\"URL: \", URL)\n",
    "  r = requests.get(URL) \n",
    "  soup = bs(r.content, 'html5lib') \n",
    "  \n",
    "  checkFor = \"\"\n",
    "  \n",
    "  if person['track'][0] == \"A\":\n",
    "    checkFor = \"app\"\n",
    "  elif person['track'][0] == \"M\":\n",
    "    checkFor = \"ml\"\n",
    "  elif person['track'][0] == \"D\":\n",
    "    checkFor = \"ds\"\n",
    "  else:\n",
    "    print(\"Invalid Track for \", person['name'])\n",
    "    \n",
    "  if debug:\n",
    "    print(\"In Track: \", person['track'])\n",
    "    print(\"Looking for: \", needs[checkFor])\n",
    "    \n",
    "  valid = 0\n",
    "  \n",
    "  for row in soup.findAll('div', attrs = {'class':'public-profile__badge'}):\n",
    "    divs = row.findChildren(\"div\" , recursive=False)\n",
    "    if debug:\n",
    "      print(divs[1].text)\n",
    "    if (divs[1].text).strip() in needs[checkFor]:\n",
    "      valid += 1\n",
    "    else:\n",
    "      if debug:\n",
    "        print(\"Not Found ---- %s\" % ((divs[1].text).strip()))\n",
    "      \n",
    "  if debug:\n",
    "    print(\"Valid Count: \", valid)\n",
    "      \n",
    "  if valid == 5:\n",
    "    return True\n",
    "  else:\n",
    "    return False\n",
    "  \n",
    "  "
   ]
  },
  {
   "cell_type": "code",
   "execution_count": 0,
   "metadata": {
    "colab": {},
    "colab_type": "code",
    "id": "UKLUWVLYXb6k"
   },
   "outputs": [],
   "source": [
    "valids = []\n",
    "invalids = []"
   ]
  },
  {
   "cell_type": "code",
   "execution_count": 12,
   "metadata": {
    "colab": {
     "base_uri": "https://localhost:8080/",
     "height": 112
    },
    "colab_type": "code",
    "id": "2O4qNBYxR6HN",
    "outputId": "c8c1af71-76f5-4be4-e18d-9d3ba857e6b5"
   },
   "outputs": [
    {
     "name": "stdout",
     "output_type": "stream",
     "text": [
      "Total People:  4\n",
      "1\n",
      "2\n",
      "3\n",
      "4\n"
     ]
    }
   ],
   "source": [
    "totalPeeps = len(lst)\n",
    "\n",
    "print(\"Total People: \", totalPeeps)\n",
    "\n",
    "nowPeep = 1\n",
    "\n",
    "for peep in lst:\n",
    "    \n",
    "  print(nowPeep)\n",
    "  nowPeep += 1\n",
    "  \n",
    "  if Checker(peep):\n",
    "    valids.append(peep)\n",
    "  else:\n",
    "    invalids.append(peep)\n",
    "  time.sleep(3)"
   ]
  },
  {
   "cell_type": "code",
   "execution_count": 13,
   "metadata": {
    "colab": {
     "base_uri": "https://localhost:8080/",
     "height": 36
    },
    "colab_type": "code",
    "id": "IWhRWaI0WizG",
    "outputId": "00fd0dac-4ac5-4d9e-b453-74b7428fc03f"
   },
   "outputs": [
    {
     "name": "stdout",
     "output_type": "stream",
     "text": [
      "Valid Profiles:  2\n"
     ]
    }
   ],
   "source": [
    "print(\"Valid Profiles: \", len(valids))"
   ]
  },
  {
   "cell_type": "code",
   "execution_count": 14,
   "metadata": {
    "colab": {
     "base_uri": "https://localhost:8080/",
     "height": 36
    },
    "colab_type": "code",
    "id": "N9fPREXFYVgc",
    "outputId": "8d4d64ac-cf52-4912-fb63-44bf7ee99f58"
   },
   "outputs": [
    {
     "name": "stdout",
     "output_type": "stream",
     "text": [
      "Invalid Profiles:  2\n"
     ]
    }
   ],
   "source": [
    "print(\"Invalid Profiles: \", len(invalids))"
   ]
  },
  {
   "cell_type": "code",
   "execution_count": 15,
   "metadata": {
    "colab": {
     "base_uri": "https://localhost:8080/",
     "height": 111
    },
    "colab_type": "code",
    "id": "M1Ji0ksNYYEP",
    "outputId": "462be4fd-3576-4915-d83d-3aa9a4563f6d"
   },
   "outputs": [
    {
     "data": {
      "text/html": [
       "<div>\n",
       "<style scoped>\n",
       "    .dataframe tbody tr th:only-of-type {\n",
       "        vertical-align: middle;\n",
       "    }\n",
       "\n",
       "    .dataframe tbody tr th {\n",
       "        vertical-align: top;\n",
       "    }\n",
       "\n",
       "    .dataframe thead th {\n",
       "        text-align: right;\n",
       "    }\n",
       "</style>\n",
       "<table border=\"1\" class=\"dataframe\">\n",
       "  <thead>\n",
       "    <tr style=\"text-align: right;\">\n",
       "      <th></th>\n",
       "      <th>name</th>\n",
       "      <th>track</th>\n",
       "      <th>link</th>\n",
       "    </tr>\n",
       "  </thead>\n",
       "  <tbody>\n",
       "    <tr>\n",
       "      <th>0</th>\n",
       "      <td>Ashish Batajoo</td>\n",
       "      <td>Application Development</td>\n",
       "      <td>https://www.qwiklabs.com/public_profiles/265aa...</td>\n",
       "    </tr>\n",
       "    <tr>\n",
       "      <th>1</th>\n",
       "      <td>Piyush Agarwal</td>\n",
       "      <td>Application Development</td>\n",
       "      <td>https://www.qwiklabs.com/public_profiles/7174e...</td>\n",
       "    </tr>\n",
       "  </tbody>\n",
       "</table>\n",
       "</div>"
      ],
      "text/plain": [
       "             name  ...                                               link\n",
       "0  Ashish Batajoo  ...  https://www.qwiklabs.com/public_profiles/265aa...\n",
       "1  Piyush Agarwal  ...  https://www.qwiklabs.com/public_profiles/7174e...\n",
       "\n",
       "[2 rows x 3 columns]"
      ]
     },
     "execution_count": 15,
     "metadata": {
      "tags": []
     },
     "output_type": "execute_result"
    }
   ],
   "source": [
    "pd.DataFrame(invalids)"
   ]
  },
  {
   "cell_type": "code",
   "execution_count": 0,
   "metadata": {
    "colab": {},
    "colab_type": "code",
    "id": "kcaB3mgsZYwu"
   },
   "outputs": [],
   "source": [
    "vals = pd.DataFrame(valids)"
   ]
  },
  {
   "cell_type": "code",
   "execution_count": 0,
   "metadata": {
    "colab": {},
    "colab_type": "code",
    "id": "XfpjChoUm1g4"
   },
   "outputs": [],
   "source": [
    "vals.to_csv(\"valids.csv\", encoding='utf-8', index=False)"
   ]
  },
  {
   "cell_type": "code",
   "execution_count": 0,
   "metadata": {
    "colab": {},
    "colab_type": "code",
    "id": "kX1OWdbvm88-"
   },
   "outputs": [],
   "source": [
    ""
   ]
  }
 ],
 "metadata": {
  "colab": {
   "include_colab_link": true,
   "name": "GCPCrashCourseConversionScript.ipynb",
   "provenance": []
  },
  "kernelspec": {
   "display_name": "Python 3",
   "name": "python3"
  }
 },
 "nbformat": 4,
 "nbformat_minor": 0
}
